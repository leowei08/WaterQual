{
 "cells": [
  {
   "cell_type": "code",
   "execution_count": 1,
   "id": "79da25cf",
   "metadata": {},
   "outputs": [],
   "source": [
    "# Import libraries\n",
    "import pandas as pd\n",
    "import numpy as np\n",
    "import pickle\n",
    "pd.set_option('display.max_columns', 500)\n",
    "pd.set_option('display.max_rows', 1000)\n",
    "import matplotlib.pyplot as plt"
   ]
  },
  {
   "cell_type": "code",
   "execution_count": 2,
   "id": "04624057",
   "metadata": {},
   "outputs": [],
   "source": [
    "# Load model\n",
    "with open('rf.pkl', 'rb') as file:\n",
    "    rf = pickle.load(file)"
   ]
  },
  {
   "cell_type": "code",
   "execution_count": 3,
   "id": "3c68a620",
   "metadata": {},
   "outputs": [],
   "source": [
    "# Load dataset\n",
    "df=pd.read_csv('Data/90contaminants.csv')"
   ]
  },
  {
   "cell_type": "code",
   "execution_count": 4,
   "id": "8cc8d29a",
   "metadata": {},
   "outputs": [
    {
     "name": "stderr",
     "output_type": "stream",
     "text": [
      "C:\\Users\\leowe\\anaconda3\\lib\\site-packages\\ipykernel_launcher.py:1: FutureWarning: The default value of regex will change from True to False in a future version. In addition, single character regular expressions will*not* be treated as literal strings when regex=True.\n",
      "  \"\"\"Entry point for launching an IPython kernel.\n"
     ]
    }
   ],
   "source": [
    "# Remove asterisk in the value column\n",
    "df['value'] = df['value'].str.replace('*','')"
   ]
  },
  {
   "cell_type": "code",
   "execution_count": 5,
   "id": "96133080",
   "metadata": {},
   "outputs": [],
   "source": [
    "# Filter for the non-detects for testing data set\n",
    "ND = df[df['value'] == 'ND']"
   ]
  },
  {
   "cell_type": "code",
   "execution_count": 6,
   "id": "445fcbeb",
   "metadata": {},
   "outputs": [],
   "source": [
    "# Reset index for the key to merge on\n",
    "ND=ND.reset_index()"
   ]
  },
  {
   "cell_type": "code",
   "execution_count": 7,
   "id": "3cae0d70",
   "metadata": {},
   "outputs": [],
   "source": [
    "# Read in dependent variables\n",
    "fips=pd.read_csv('Data/pwsid2fips.csv')\n",
    "census = pd.read_csv(\"Data/Census_1982_2018.csv\")"
   ]
  },
  {
   "cell_type": "code",
   "execution_count": 8,
   "id": "63bbbf10",
   "metadata": {},
   "outputs": [],
   "source": [
    "# Drop columns we dont need\n",
    "census.drop(columns=['white','median_household_income','CPI_annual_2015'],inplace=True)"
   ]
  },
  {
   "cell_type": "code",
   "execution_count": 9,
   "id": "37d122e8",
   "metadata": {},
   "outputs": [],
   "source": [
    "# Merge with utility characteristics\n",
    "ND_fips = ND.merge(fips,left_on='utilityid',right_on='pwsid')"
   ]
  },
  {
   "cell_type": "code",
   "execution_count": 10,
   "id": "e5e85c4a",
   "metadata": {},
   "outputs": [],
   "source": [
    "# Drop columns we dont need\n",
    "ND_fips.drop(columns=['primacytype','duplicates','new_fips','countyname','state_fips','county_fips','fips_FIMS_MA','pwsname','eparegion','primacyagency','pwstype','activitystatus','deactivationdate','zip_code','l','pwsid','zipcode2'],inplace=True)"
   ]
  },
  {
   "cell_type": "code",
   "execution_count": 11,
   "id": "c9215528",
   "metadata": {},
   "outputs": [],
   "source": [
    "# Merge with demographics data\n",
    "merged=ND_fips.merge(census,left_on=['year','fips'],right_on=['year','fips'])"
   ]
  },
  {
   "cell_type": "code",
   "execution_count": 12,
   "id": "f41df6d1",
   "metadata": {},
   "outputs": [
    {
     "data": {
      "text/plain": [
       "index                                     0\n",
       "utilityid                                 0\n",
       "contaminant_name                          0\n",
       "date                                      0\n",
       "labid                               2055940\n",
       "value                                     0\n",
       "year                                      0\n",
       "state                                     0\n",
       "fips                                      0\n",
       "primarysource                        230563\n",
       "populationservedcount                230563\n",
       "ownertype                            298504\n",
       "iswholesaler                         298504\n",
       "isoutstandingperformer               298504\n",
       "issourcewaterprotected               298504\n",
       "serviceconnectionscount              298504\n",
       "median_year_structure_built             479\n",
       "total_pop                                 0\n",
       "housing_density                           0\n",
       "deflated_median_household_income          0\n",
       "nonwhite                                  0\n",
       "dtype: int64"
      ]
     },
     "execution_count": 12,
     "metadata": {},
     "output_type": "execute_result"
    }
   ],
   "source": [
    "# Observe the # of NaNs for each column\n",
    "merged.isna().sum()"
   ]
  },
  {
   "cell_type": "code",
   "execution_count": 13,
   "id": "5fbbb892",
   "metadata": {},
   "outputs": [],
   "source": [
    "# Drop the labid column\n",
    "merged=merged.drop(columns=['labid']).dropna()"
   ]
  },
  {
   "cell_type": "code",
   "execution_count": 14,
   "id": "265abd19",
   "metadata": {},
   "outputs": [],
   "source": [
    "# Convert contaminant name to lowercase\n",
    "merged['contaminant_name'] = merged['contaminant_name'].str.lower()"
   ]
  },
  {
   "cell_type": "code",
   "execution_count": 15,
   "id": "f4dac6d3",
   "metadata": {},
   "outputs": [],
   "source": [
    "# Convert categorical variables to dummy variables\n",
    "test=pd.concat([merged,pd.get_dummies(merged['year'],drop_first=True),\n",
    "           pd.get_dummies(merged['state'],drop_first=True),\n",
    "           pd.get_dummies(merged['primarysource'],drop_first=True),\n",
    "           pd.get_dummies(merged['ownertype'],drop_first=True),\n",
    "           pd.get_dummies(merged['isoutstandingperformer'],drop_first=True),\n",
    "           pd.get_dummies(merged['issourcewaterprotected'],drop_first=True),\n",
    "           pd.get_dummies(merged['contaminant_name'],drop_first=True)], axis=1)"
   ]
  },
  {
   "cell_type": "code",
   "execution_count": 16,
   "id": "4db4d16e",
   "metadata": {},
   "outputs": [],
   "source": [
    "# Drop columns that are not in the predictors\n",
    "test.drop(columns=['utilityid','contaminant_name','date','value','year','state','primarysource','ownertype','isoutstandingperformer','issourcewaterprotected','index'],inplace=True)"
   ]
  },
  {
   "cell_type": "code",
   "execution_count": 17,
   "id": "12ba0028",
   "metadata": {},
   "outputs": [],
   "source": [
    "# put the dummy variable for alachlor oxanilic acid to the last column, consistent with training data\n",
    "test['AOA'] = test['alachlor oxanilic acid']\n",
    "test.drop(columns=['alachlor oxanilic acid'],inplace=True)"
   ]
  },
  {
   "cell_type": "code",
   "execution_count": 18,
   "id": "6a02137c",
   "metadata": {},
   "outputs": [],
   "source": [
    "# Make predictions\n",
    "predictions = np.exp(rf.predict(test))"
   ]
  },
  {
   "cell_type": "markdown",
   "id": "6e48d107",
   "metadata": {},
   "source": [
    "## Put predictions back to the dataset"
   ]
  },
  {
   "cell_type": "code",
   "execution_count": 19,
   "id": "20e0ac58",
   "metadata": {},
   "outputs": [],
   "source": [
    "# Put it in a temporary column first\n",
    "merged[0] = predictions"
   ]
  },
  {
   "cell_type": "code",
   "execution_count": 20,
   "id": "542b6d7e",
   "metadata": {},
   "outputs": [],
   "source": [
    "# Reset the index of the main data set for merge\n",
    "df=df.reset_index()"
   ]
  },
  {
   "cell_type": "code",
   "execution_count": 21,
   "id": "757cba92",
   "metadata": {},
   "outputs": [],
   "source": [
    "# Merge the predictions with the main data set on index\n",
    "df=df.merge(merged[['index',0]],how='left',left_on='index',right_on='index')"
   ]
  },
  {
   "cell_type": "code",
   "execution_count": 22,
   "id": "fba35ec3",
   "metadata": {},
   "outputs": [
    {
     "data": {
      "text/plain": [
       "index                     0\n",
       "utilityid                 0\n",
       "contaminant_name          0\n",
       "date                      0\n",
       "labid               2726674\n",
       "value                    36\n",
       "year                      0\n",
       "state                     0\n",
       "0                   7968809\n",
       "dtype: int64"
      ]
     },
     "execution_count": 22,
     "metadata": {},
     "output_type": "execute_result"
    }
   ],
   "source": [
    "# # Observe the # of NaNs for each column\n",
    "df.isna().sum()"
   ]
  },
  {
   "cell_type": "markdown",
   "id": "934cecfb",
   "metadata": {},
   "source": [
    "## Make the units and values consistent across detects and predictions"
   ]
  },
  {
   "cell_type": "code",
   "execution_count": 49,
   "id": "d177dac2",
   "metadata": {},
   "outputs": [],
   "source": [
    "# Split into detects and predictions\n",
    "ND = df[df['value']=='ND']\n",
    "D = df[df['value']!='ND']"
   ]
  },
  {
   "cell_type": "code",
   "execution_count": 24,
   "id": "e876f2d1",
   "metadata": {},
   "outputs": [
    {
     "name": "stderr",
     "output_type": "stream",
     "text": [
      "C:\\Users\\leowe\\anaconda3\\lib\\site-packages\\ipykernel_launcher.py:1: SettingWithCopyWarning: \n",
      "A value is trying to be set on a copy of a slice from a DataFrame.\n",
      "Try using .loc[row_indexer,col_indexer] = value instead\n",
      "\n",
      "See the caveats in the documentation: https://pandas.pydata.org/pandas-docs/stable/user_guide/indexing.html#returning-a-view-versus-a-copy\n",
      "  \"\"\"Entry point for launching an IPython kernel.\n"
     ]
    }
   ],
   "source": [
    "# Rename the prediction column to value to be consistent with detects\n",
    "ND['value'] = ND[0]\n",
    "ND.drop(columns=[0],inplace=True)"
   ]
  },
  {
   "cell_type": "code",
   "execution_count": 26,
   "id": "d476aa78",
   "metadata": {},
   "outputs": [],
   "source": [
    "# Add a column to indicate that the values are predictions\n",
    "ND=ND.reset_index(drop=True)\n",
    "ND['is_prediction'] = pd.Series([1]*ND.shape[0])"
   ]
  },
  {
   "cell_type": "code",
   "execution_count": 27,
   "id": "8d4712d9",
   "metadata": {},
   "outputs": [],
   "source": [
    "# Fill in NaN for those (very little) not in the testing dataset due to missing other varaibles\n",
    "ND['value'] = ND['value'].fillna(np.nan)"
   ]
  },
  {
   "cell_type": "code",
   "execution_count": 28,
   "id": "71e7845f",
   "metadata": {},
   "outputs": [],
   "source": [
    "# Add a column for the detects to indicate they are not predictions\n",
    "D=D.reset_index(drop=True)\n",
    "D.drop(columns=[0],inplace=True)\n",
    "D['is_prediction'] = pd.Series([0]*D.shape[0])"
   ]
  },
  {
   "cell_type": "code",
   "execution_count": 29,
   "id": "dc09ebd5",
   "metadata": {},
   "outputs": [
    {
     "name": "stderr",
     "output_type": "stream",
     "text": [
      "C:\\Users\\leowe\\anaconda3\\lib\\site-packages\\ipykernel_launcher.py:1: FutureWarning: The default value of regex will change from True to False in a future version. In addition, single character regular expressions will*not* be treated as literal strings when regex=True.\n",
      "  \"\"\"Entry point for launching an IPython kernel.\n"
     ]
    }
   ],
   "source": [
    "# Remove the asterisk in the value column\n",
    "D['value'] = D['value'].str.replace('*','')"
   ]
  },
  {
   "cell_type": "code",
   "execution_count": 30,
   "id": "6e8b1325",
   "metadata": {},
   "outputs": [],
   "source": [
    "# Extract the concentration and units info\n",
    "D['concentration'] = D['value'].str.extract(r'(\\S*) \\S*')\n",
    "D['concentration'] = D['concentration'].str.replace(',','').astype(float)\n",
    "D['units'] = D['value'].str.extract(r'\\S* (\\S*)')"
   ]
  },
  {
   "cell_type": "code",
   "execution_count": 31,
   "id": "3c00236a",
   "metadata": {},
   "outputs": [
    {
     "data": {
      "text/plain": [
       "array(['Nitrate', 'Fluoride', 'Nitrite'], dtype=object)"
      ]
     },
     "execution_count": 31,
     "metadata": {},
     "output_type": "execute_result"
    }
   ],
   "source": [
    "# Observe the contaminants that are in the units of PPM\n",
    "D[D['units']=='ppm']['contaminant_name'].unique()"
   ]
  },
  {
   "cell_type": "markdown",
   "id": "2ad745d4",
   "metadata": {},
   "source": [
    "## Convert units to PPB for all contaminants\n"
   ]
  },
  {
   "cell_type": "code",
   "execution_count": 33,
   "id": "dbd6394e",
   "metadata": {},
   "outputs": [],
   "source": [
    "# Separate the known and NaN values\n",
    "gone = ND[ND['value'].isna()]\n",
    "rest = ND[ND['value'].notna()]"
   ]
  },
  {
   "cell_type": "code",
   "execution_count": 34,
   "id": "93df73c4",
   "metadata": {},
   "outputs": [],
   "source": [
    "# Filter for the contaminants in units of PPT\n",
    "ppt=rest[rest['contaminant_name'].isin(['2,3,7,8-TCDD (Dioxin)','17-beta-Estradiol'])]\n",
    "nonppt=rest[~rest['contaminant_name'].isin(['2,3,7,8-TCDD (Dioxin)','17-beta-Estradiol'])]"
   ]
  },
  {
   "cell_type": "code",
   "execution_count": 35,
   "id": "62eb0d8d",
   "metadata": {},
   "outputs": [
    {
     "name": "stderr",
     "output_type": "stream",
     "text": [
      "C:\\Users\\leowe\\anaconda3\\lib\\site-packages\\ipykernel_launcher.py:1: SettingWithCopyWarning: \n",
      "A value is trying to be set on a copy of a slice from a DataFrame.\n",
      "Try using .loc[row_indexer,col_indexer] = value instead\n",
      "\n",
      "See the caveats in the documentation: https://pandas.pydata.org/pandas-docs/stable/user_guide/indexing.html#returning-a-view-versus-a-copy\n",
      "  \"\"\"Entry point for launching an IPython kernel.\n"
     ]
    }
   ],
   "source": [
    "# Convert values to PPB\n",
    "ppt['value'] = ppt['value'] * 1000"
   ]
  },
  {
   "cell_type": "code",
   "execution_count": 36,
   "id": "221fe707",
   "metadata": {},
   "outputs": [],
   "source": [
    "# Append the data back to one\n",
    "rest=pd.concat([ppt,nonppt])"
   ]
  },
  {
   "cell_type": "code",
   "execution_count": 37,
   "id": "001d2500",
   "metadata": {},
   "outputs": [],
   "source": [
    "# Filter for the contaminants in units of PPM\n",
    "ppm=rest[rest['contaminant_name'].isin(['Nitrate', 'Fluoride', 'Nitrite'])]\n",
    "nonppm=rest[~rest['contaminant_name'].isin(['Nitrate', 'Fluoride', 'Nitrite'])]"
   ]
  },
  {
   "cell_type": "code",
   "execution_count": 38,
   "id": "d16d9f3e",
   "metadata": {},
   "outputs": [
    {
     "name": "stderr",
     "output_type": "stream",
     "text": [
      "C:\\Users\\leowe\\anaconda3\\lib\\site-packages\\ipykernel_launcher.py:1: SettingWithCopyWarning: \n",
      "A value is trying to be set on a copy of a slice from a DataFrame.\n",
      "Try using .loc[row_indexer,col_indexer] = value instead\n",
      "\n",
      "See the caveats in the documentation: https://pandas.pydata.org/pandas-docs/stable/user_guide/indexing.html#returning-a-view-versus-a-copy\n",
      "  \"\"\"Entry point for launching an IPython kernel.\n"
     ]
    }
   ],
   "source": [
    "# Convert values to PPB\n",
    "ppm['value'] = ppm['value'] / 1000"
   ]
  },
  {
   "cell_type": "code",
   "execution_count": 39,
   "id": "a67045d8",
   "metadata": {},
   "outputs": [],
   "source": [
    "# Append the data back to one\n",
    "rest=pd.concat([ppm,nonppm])"
   ]
  },
  {
   "cell_type": "code",
   "execution_count": 40,
   "id": "c24181b5",
   "metadata": {},
   "outputs": [],
   "source": [
    "# Append again with the NaN values\n",
    "ND=pd.concat([rest,gone])"
   ]
  },
  {
   "cell_type": "code",
   "execution_count": 41,
   "id": "1acdaaa9",
   "metadata": {},
   "outputs": [],
   "source": [
    "# Get a contaminant units table\n",
    "units=D[['contaminant_name','units']].drop_duplicates().dropna()"
   ]
  },
  {
   "cell_type": "code",
   "execution_count": 42,
   "id": "77f896fa",
   "metadata": {},
   "outputs": [],
   "source": [
    "# Merge with the predictions so that they have the units column like the detects\n",
    "ND=ND.merge(units,how='left',left_on='contaminant_name',right_on='contaminant_name')"
   ]
  },
  {
   "cell_type": "code",
   "execution_count": 43,
   "id": "011bbf3f",
   "metadata": {},
   "outputs": [],
   "source": [
    "# Fill in the rest with PPB\n",
    "ND['units'] = ND['units'].fillna('ppb')"
   ]
  },
  {
   "cell_type": "code",
   "execution_count": 45,
   "id": "0109124e",
   "metadata": {},
   "outputs": [],
   "source": [
    "# Rename column\n",
    "D['value'] = D['concentration']\n",
    "D.drop(columns=['concentration'],inplace=True)"
   ]
  },
  {
   "cell_type": "code",
   "execution_count": 46,
   "id": "914181f0",
   "metadata": {},
   "outputs": [],
   "source": [
    "# Append the predictions and detects back to one dataframe in the same order\n",
    "final=pd.concat([ND,D]).sort_values('index').set_index('index')"
   ]
  },
  {
   "cell_type": "code",
   "execution_count": 47,
   "id": "07d18bfd",
   "metadata": {},
   "outputs": [
    {
     "data": {
      "text/html": [
       "<div>\n",
       "<style scoped>\n",
       "    .dataframe tbody tr th:only-of-type {\n",
       "        vertical-align: middle;\n",
       "    }\n",
       "\n",
       "    .dataframe tbody tr th {\n",
       "        vertical-align: top;\n",
       "    }\n",
       "\n",
       "    .dataframe thead th {\n",
       "        text-align: right;\n",
       "    }\n",
       "</style>\n",
       "<table border=\"1\" class=\"dataframe\">\n",
       "  <thead>\n",
       "    <tr style=\"text-align: right;\">\n",
       "      <th></th>\n",
       "      <th>utilityid</th>\n",
       "      <th>contaminant_name</th>\n",
       "      <th>date</th>\n",
       "      <th>labid</th>\n",
       "      <th>value</th>\n",
       "      <th>year</th>\n",
       "      <th>state</th>\n",
       "      <th>is_prediction</th>\n",
       "      <th>units</th>\n",
       "    </tr>\n",
       "    <tr>\n",
       "      <th>index</th>\n",
       "      <th></th>\n",
       "      <th></th>\n",
       "      <th></th>\n",
       "      <th></th>\n",
       "      <th></th>\n",
       "      <th></th>\n",
       "      <th></th>\n",
       "      <th></th>\n",
       "      <th></th>\n",
       "    </tr>\n",
       "  </thead>\n",
       "  <tbody>\n",
       "    <tr>\n",
       "      <th>0</th>\n",
       "      <td>NH2512010</td>\n",
       "      <td>Diquat</td>\n",
       "      <td>2010-03-24</td>\n",
       "      <td>103-407-1</td>\n",
       "      <td>0.69035</td>\n",
       "      <td>2010</td>\n",
       "      <td>NH</td>\n",
       "      <td>1</td>\n",
       "      <td>ppb</td>\n",
       "    </tr>\n",
       "    <tr>\n",
       "      <th>1</th>\n",
       "      <td>NH2512010</td>\n",
       "      <td>Endothall</td>\n",
       "      <td>2010-03-24</td>\n",
       "      <td>103-407-1</td>\n",
       "      <td>8.778158</td>\n",
       "      <td>2010</td>\n",
       "      <td>NH</td>\n",
       "      <td>1</td>\n",
       "      <td>ppb</td>\n",
       "    </tr>\n",
       "    <tr>\n",
       "      <th>2</th>\n",
       "      <td>NH2512010</td>\n",
       "      <td>Endrin</td>\n",
       "      <td>2010-03-24</td>\n",
       "      <td>103-407-1</td>\n",
       "      <td>0.040157</td>\n",
       "      <td>2010</td>\n",
       "      <td>NH</td>\n",
       "      <td>1</td>\n",
       "      <td>ppb</td>\n",
       "    </tr>\n",
       "    <tr>\n",
       "      <th>3</th>\n",
       "      <td>NH2512010</td>\n",
       "      <td>Endrin aldehyde</td>\n",
       "      <td>2010-03-24</td>\n",
       "      <td>103-407-1</td>\n",
       "      <td>0.514252</td>\n",
       "      <td>2010</td>\n",
       "      <td>NH</td>\n",
       "      <td>1</td>\n",
       "      <td>ppb</td>\n",
       "    </tr>\n",
       "    <tr>\n",
       "      <th>4</th>\n",
       "      <td>NH2512010</td>\n",
       "      <td>Ethylbenzene</td>\n",
       "      <td>2010-03-24</td>\n",
       "      <td>8753301</td>\n",
       "      <td>0.486085</td>\n",
       "      <td>2010</td>\n",
       "      <td>NH</td>\n",
       "      <td>1</td>\n",
       "      <td>ppb</td>\n",
       "    </tr>\n",
       "    <tr>\n",
       "      <th>...</th>\n",
       "      <td>...</td>\n",
       "      <td>...</td>\n",
       "      <td>...</td>\n",
       "      <td>...</td>\n",
       "      <td>...</td>\n",
       "      <td>...</td>\n",
       "      <td>...</td>\n",
       "      <td>...</td>\n",
       "      <td>...</td>\n",
       "    </tr>\n",
       "    <tr>\n",
       "      <th>27752849</th>\n",
       "      <td>WA5351550</td>\n",
       "      <td>Radium, combined (-226 &amp; -228)</td>\n",
       "      <td>2015-06-23</td>\n",
       "      <td>13511</td>\n",
       "      <td>0.67</td>\n",
       "      <td>2015</td>\n",
       "      <td>WA</td>\n",
       "      <td>0</td>\n",
       "      <td>pCi/L</td>\n",
       "    </tr>\n",
       "    <tr>\n",
       "      <th>27752850</th>\n",
       "      <td>NC0136294</td>\n",
       "      <td>Radium, combined (-226 &amp; -228)</td>\n",
       "      <td>2013-11-07</td>\n",
       "      <td>1311102-02</td>\n",
       "      <td>1.098783</td>\n",
       "      <td>2013</td>\n",
       "      <td>NC</td>\n",
       "      <td>1</td>\n",
       "      <td>pCi/L</td>\n",
       "    </tr>\n",
       "    <tr>\n",
       "      <th>27752851</th>\n",
       "      <td>WA5351550</td>\n",
       "      <td>Radium, combined (-226 &amp; -228)</td>\n",
       "      <td>2015-04-16</td>\n",
       "      <td>NaN</td>\n",
       "      <td>0.53</td>\n",
       "      <td>2015</td>\n",
       "      <td>WA</td>\n",
       "      <td>0</td>\n",
       "      <td>pCi/L</td>\n",
       "    </tr>\n",
       "    <tr>\n",
       "      <th>27752852</th>\n",
       "      <td>NC0136294</td>\n",
       "      <td>Radium, combined (-226 &amp; -228)</td>\n",
       "      <td>2013-11-07</td>\n",
       "      <td>1311102-01</td>\n",
       "      <td>1.098783</td>\n",
       "      <td>2013</td>\n",
       "      <td>NC</td>\n",
       "      <td>1</td>\n",
       "      <td>pCi/L</td>\n",
       "    </tr>\n",
       "    <tr>\n",
       "      <th>27752853</th>\n",
       "      <td>GA3050010</td>\n",
       "      <td>Radium, combined (-226 &amp; -228)</td>\n",
       "      <td>2016-10-26</td>\n",
       "      <td>30201015001</td>\n",
       "      <td>1.442818</td>\n",
       "      <td>2016</td>\n",
       "      <td>GA</td>\n",
       "      <td>1</td>\n",
       "      <td>pCi/L</td>\n",
       "    </tr>\n",
       "  </tbody>\n",
       "</table>\n",
       "<p>27752854 rows × 9 columns</p>\n",
       "</div>"
      ],
      "text/plain": [
       "          utilityid                contaminant_name        date        labid  \\\n",
       "index                                                                          \n",
       "0         NH2512010                          Diquat  2010-03-24    103-407-1   \n",
       "1         NH2512010                       Endothall  2010-03-24    103-407-1   \n",
       "2         NH2512010                          Endrin  2010-03-24    103-407-1   \n",
       "3         NH2512010                 Endrin aldehyde  2010-03-24    103-407-1   \n",
       "4         NH2512010                    Ethylbenzene  2010-03-24      8753301   \n",
       "...             ...                             ...         ...          ...   \n",
       "27752849  WA5351550  Radium, combined (-226 & -228)  2015-06-23        13511   \n",
       "27752850  NC0136294  Radium, combined (-226 & -228)  2013-11-07   1311102-02   \n",
       "27752851  WA5351550  Radium, combined (-226 & -228)  2015-04-16          NaN   \n",
       "27752852  NC0136294  Radium, combined (-226 & -228)  2013-11-07   1311102-01   \n",
       "27752853  GA3050010  Radium, combined (-226 & -228)  2016-10-26  30201015001   \n",
       "\n",
       "             value  year state  is_prediction  units  \n",
       "index                                                 \n",
       "0          0.69035  2010    NH              1    ppb  \n",
       "1         8.778158  2010    NH              1    ppb  \n",
       "2         0.040157  2010    NH              1    ppb  \n",
       "3         0.514252  2010    NH              1    ppb  \n",
       "4         0.486085  2010    NH              1    ppb  \n",
       "...            ...   ...   ...            ...    ...  \n",
       "27752849      0.67  2015    WA              0  pCi/L  \n",
       "27752850  1.098783  2013    NC              1  pCi/L  \n",
       "27752851      0.53  2015    WA              0  pCi/L  \n",
       "27752852  1.098783  2013    NC              1  pCi/L  \n",
       "27752853  1.442818  2016    GA              1  pCi/L  \n",
       "\n",
       "[27752854 rows x 9 columns]"
      ]
     },
     "execution_count": 47,
     "metadata": {},
     "output_type": "execute_result"
    }
   ],
   "source": [
    "final"
   ]
  },
  {
   "cell_type": "code",
   "execution_count": null,
   "id": "5b0aeb0c",
   "metadata": {},
   "outputs": [],
   "source": [
    "# Save file\n",
    "final.to_csv('Data/90contaminants_prediction.csv',index=False)"
   ]
  }
 ],
 "metadata": {
  "kernelspec": {
   "display_name": "Python 3",
   "language": "python",
   "name": "python3"
  },
  "language_info": {
   "codemirror_mode": {
    "name": "ipython",
    "version": 3
   },
   "file_extension": ".py",
   "mimetype": "text/x-python",
   "name": "python",
   "nbconvert_exporter": "python",
   "pygments_lexer": "ipython3",
   "version": "3.7.11"
  }
 },
 "nbformat": 4,
 "nbformat_minor": 5
}
