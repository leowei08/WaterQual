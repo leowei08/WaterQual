{
 "cells": [
  {
   "cell_type": "code",
   "execution_count": 2,
   "metadata": {},
   "outputs": [],
   "source": [
    "# Import libraries\n",
    "import pandas as pd"
   ]
  },
  {
   "cell_type": "code",
   "execution_count": 10,
   "metadata": {},
   "outputs": [],
   "source": [
    "# Read in the raw dataset\n",
    "df=pd.read_csv('Data/EWG_2010_2017.csv')"
   ]
  },
  {
   "cell_type": "code",
   "execution_count": 11,
   "metadata": {},
   "outputs": [
    {
     "name": "stderr",
     "output_type": "stream",
     "text": [
      "C:\\Users\\leowe\\anaconda3\\lib\\site-packages\\ipykernel_launcher.py:1: FutureWarning: The default value of regex will change from True to False in a future version. In addition, single character regular expressions will*not* be treated as literal strings when regex=True.\n",
      "  \"\"\"Entry point for launching an IPython kernel.\n"
     ]
    }
   ],
   "source": [
    "# Remove the asterisk in contaminant names\n",
    "df['contaminant_name'] = df['contaminant_name'].str.replace('*','')"
   ]
  },
  {
   "cell_type": "code",
   "execution_count": 12,
   "metadata": {},
   "outputs": [
    {
     "data": {
      "text/html": [
       "<div>\n",
       "<style scoped>\n",
       "    .dataframe tbody tr th:only-of-type {\n",
       "        vertical-align: middle;\n",
       "    }\n",
       "\n",
       "    .dataframe tbody tr th {\n",
       "        vertical-align: top;\n",
       "    }\n",
       "\n",
       "    .dataframe thead th {\n",
       "        text-align: right;\n",
       "    }\n",
       "</style>\n",
       "<table border=\"1\" class=\"dataframe\">\n",
       "  <thead>\n",
       "    <tr style=\"text-align: right;\">\n",
       "      <th></th>\n",
       "      <th>utilityid</th>\n",
       "      <th>contaminant_name</th>\n",
       "      <th>date</th>\n",
       "      <th>labid</th>\n",
       "      <th>value</th>\n",
       "      <th>year</th>\n",
       "      <th>state</th>\n",
       "    </tr>\n",
       "  </thead>\n",
       "  <tbody>\n",
       "    <tr>\n",
       "      <th>0</th>\n",
       "      <td>NH2512010</td>\n",
       "      <td>Diquat</td>\n",
       "      <td>2010-03-24</td>\n",
       "      <td>103-407-1</td>\n",
       "      <td>ND</td>\n",
       "      <td>2010</td>\n",
       "      <td>NH</td>\n",
       "    </tr>\n",
       "    <tr>\n",
       "      <th>1</th>\n",
       "      <td>NH2512010</td>\n",
       "      <td>Endothall</td>\n",
       "      <td>2010-03-24</td>\n",
       "      <td>103-407-1</td>\n",
       "      <td>ND</td>\n",
       "      <td>2010</td>\n",
       "      <td>NH</td>\n",
       "    </tr>\n",
       "    <tr>\n",
       "      <th>2</th>\n",
       "      <td>NH2512010</td>\n",
       "      <td>Endrin</td>\n",
       "      <td>2010-03-24</td>\n",
       "      <td>103-407-1</td>\n",
       "      <td>ND</td>\n",
       "      <td>2010</td>\n",
       "      <td>NH</td>\n",
       "    </tr>\n",
       "    <tr>\n",
       "      <th>3</th>\n",
       "      <td>NH2512010</td>\n",
       "      <td>Endrin aldehyde</td>\n",
       "      <td>2010-03-24</td>\n",
       "      <td>103-407-1</td>\n",
       "      <td>ND</td>\n",
       "      <td>2010</td>\n",
       "      <td>NH</td>\n",
       "    </tr>\n",
       "    <tr>\n",
       "      <th>4</th>\n",
       "      <td>NH2512010</td>\n",
       "      <td>Ethyl ether</td>\n",
       "      <td>2010-03-24</td>\n",
       "      <td>8753301</td>\n",
       "      <td>ND</td>\n",
       "      <td>2010</td>\n",
       "      <td>NH</td>\n",
       "    </tr>\n",
       "  </tbody>\n",
       "</table>\n",
       "</div>"
      ],
      "text/plain": [
       "   utilityid contaminant_name        date      labid value  year state\n",
       "0  NH2512010           Diquat  2010-03-24  103-407-1    ND  2010    NH\n",
       "1  NH2512010        Endothall  2010-03-24  103-407-1    ND  2010    NH\n",
       "2  NH2512010           Endrin  2010-03-24  103-407-1    ND  2010    NH\n",
       "3  NH2512010  Endrin aldehyde  2010-03-24  103-407-1    ND  2010    NH\n",
       "4  NH2512010      Ethyl ether  2010-03-24    8753301    ND  2010    NH"
      ]
     },
     "execution_count": 12,
     "metadata": {},
     "output_type": "execute_result"
    }
   ],
   "source": [
    "df.head()"
   ]
  },
  {
   "cell_type": "code",
   "execution_count": 13,
   "metadata": {},
   "outputs": [
    {
     "data": {
      "text/plain": [
       "523"
      ]
     },
     "execution_count": 13,
     "metadata": {},
     "output_type": "execute_result"
    }
   ],
   "source": [
    "# See number of contaminants\n",
    "len(df['contaminant_name'].unique())"
   ]
  },
  {
   "cell_type": "code",
   "execution_count": 14,
   "metadata": {},
   "outputs": [
    {
     "name": "stdout",
     "output_type": "stream",
     "text": [
      "['Diquat' 'Endothall' 'Endrin' 'Endrin aldehyde' 'Ethyl ether'\n",
      " 'Ethyl tert-butyl ether' 'Ethylbenzene' 'Ethylene dibromide'\n",
      " 'Fluoranthene' 'Fluorene' 'gamma-Chlordane' 'Glyphosate' 'Heptachlor'\n",
      " 'Heptachlor epoxide' 'Hexachlorobenzene (HCB)' 'Hexachlorobutadiene'\n",
      " 'Hexachlorocyclopentadiene' 'Hexachloroethane' 'Indeno[1,2,3-cd]pyrene'\n",
      " 'Isophorone' 'Isopropyl alcohol' 'Isopropyl ether' 'Isopropylbenzene'\n",
      " 'Lindane' 'm- & p-Xylene' 'Mercury (inorganic)' 'Methomyl' 'Methoxychlor'\n",
      " 'Methyl ethyl ketone' 'Methyl isobutyl ketone' 'Metolachlor' 'Metribuzin'\n",
      " 'Monochlorobenzene (chlorobenzene)' 'MTBE' 'n-Butylbenzene'\n",
      " 'n-Propylbenzene' 'Naphthalene' 'Nitrate' 'Nitrate and nitrite'\n",
      " 'o-Dichlorobenzene' 'o-Xylene' 'Oxamyl (Vydate)' 'p-Dichlorobenzene'\n",
      " 'p-Isopropyltoluene' 'Para-para DDE' 'Para-para DDT' 'Pentachlorophenol'\n",
      " 'Phenanthrene' 'Picloram' 'Polychlorinated biphenyls (PCBs)' 'Propachlor'\n",
      " 'Pyrene' 'sec-Butylbenzene' 'Selenium' 'Silver' 'Simazine' 'Styrene'\n",
      " 'tert-Amyl methyl ether' 'tert-Butyl alcohol' 'tert-Butylbenzene'\n",
      " 'Tetrachloroethylene (perchloroethylene)' 'Tetrahydrofuran' 'Thallium'\n",
      " 'Toluene' 'Total trihalomethanes (TTHMs)' 'Toxaphene'\n",
      " 'trans-1,2-Dichloroethylene' 'trans-1,3-Dichloropropene'\n",
      " 'trans-Nonachlor' 'Trichloroethylene' 'Trichlorofluoromethane'\n",
      " 'Trifluralin' 'Vinyl acetate' 'Vinyl chloride' 'Xylenes (total)' 'Barium'\n",
      " 'Fluoride' 'Chloroform' 'Bromodichloromethane' 'Antimony' 'Arsenic'\n",
      " 'Beryllium' 'Cadmium' 'Chromium (total)' 'Cyanide' 'Nitrite'\n",
      " 'Perchlorate' 'Chloromethane' '1,2,4-Trimethylbenzene'\n",
      " '1,3,5-Trimethylbenzene' 'Bromoform' 'Dibromochloromethane'\n",
      " '1,1,1,2-Tetrachloroethane' '1,1,1-Trichloroethane'\n",
      " '1,1,2,2-Tetrachloroethane' '1,1,2-Trichloroethane' '1,1-Dichloroethane'\n",
      " '1,1-Dichloroethylene' '1,1-Dichloropropene' '1,2,3-Trichlorobenzene'\n",
      " '1,2,3-Trichloropropane' '1,2,4-Trichlorobenzene' '1,2-Dichloroethane'\n",
      " '1,2-Dichloropropane' '1,3-Dichloropropane' '1,3-Dichloropropene'\n",
      " '2,2-Dichloropropane' 'Benzene' 'Bromobenzene' 'Bromochloromethane'\n",
      " 'Bromomethane' 'Carbon tetrachloride' 'Chloroethane'\n",
      " 'cis-1,2-Dichloroethylene' 'Dibromomethane' 'Dichlorodifluoromethane'\n",
      " 'Dichloromethane (methylene chloride)' 'm-Dichlorobenzene'\n",
      " 'o-Chlorotoluene' 'p-Chlorotoluene' 'Bromide' 'Aluminum' 'Manganese'\n",
      " '1,2-Dibromo-3-chloropropane (DBCP)' '2,4,5-TP (Silvex)' '2,4-D'\n",
      " '3-Hydroxycarbofuran' 'Aldicarb' 'Aldicarb sulfone' 'Aldicarb sulfoxide'\n",
      " 'Carbaryl' 'Carbofuran' 'Chlordane' 'Dalapon' 'Dicamba' 'Dinoseb'\n",
      " 'Alachlor (Lasso)' 'Aldrin' 'Atrazine' 'Benzo[a]pyrene' 'Butachlor'\n",
      " 'Di(2-ethylhexyl) adipate' 'Di(2-ethylhexyl) phthalate' 'Dieldrin'\n",
      " 'Radium, combined (-226 & -228)' 'Radium-226' 'Radium-228' 'Radon'\n",
      " 'Uranium' 'Chlorite' 'Bromate' 'Dichloroacetic acid'\n",
      " 'Trichloroacetic acid' 'Haloacetic acids (HAA5)' 'Monochloroacetic acid'\n",
      " '1,4-Dioxane' 'Dibromoacetic acid' 'Monobromoacetic acid'\n",
      " 'cis-1,3-Dichloropropene' 'n-Hexane' '2,4-Dinitrotoluene'\n",
      " '2,6-Dinitrotoluene' 'Acenaphthylene' 'Anthracene' 'Asbestos'\n",
      " 'Benzo[a]anthracene' 'Benzo[b]fluoranthene' 'Benzo[g,h,i]perylene'\n",
      " 'Benzo[k]fluoranthene' 'Butyl benzyl phthalate' 'Chrysene' 'Dacthal'\n",
      " 'Di-n-butyl phthalate' 'Dibenz[a,h]anthracene' 'Diethyl phthalate'\n",
      " 'Dimethyl phthalate' 'Dichlorobenzenes' 'm-Xylene' 'p-Xylene'\n",
      " '2-Hexanone' 'Acetone' '1,2,3-Trimethylbenzene' '1,3,5-Trichlorobenzene'\n",
      " '2-Methyl naphthalene' 'Acenaphthene' 'Acifluorfen (Blazer)'\n",
      " 'Baygon (Propoxur)' 'Methiocarb' 'Nitrobenzene' '2,3-Dichlorobiphenyl'\n",
      " '2,4,5-Trichlorobiphenyl' '2-Chlorobiphenyl'\n",
      " \"22'3'46-Pentachlorobiphenyl\" \"22'33'44'6-Heptachlorobiphenyl\"\n",
      " \"22'33'45'66'-Octachlorobiphenyl\" \"22'44'-Tetrachlorobiphenyl\"\n",
      " \"22'44'56'-Hexachlorobiphenyl\" 'alpha-Chlordane' 'Ethyl alcohol'\n",
      " 'Acetaldhyde' 'Dichloroiodomethane' 'Vanadium' '2,3,7,8-TCDD (Dioxin)'\n",
      " 'Thiobencarb' 'Trichlorotrifluoroethane' 'Chromium (hexavalent)'\n",
      " '2,4,5-T' '2-Chloroethylvinyl ether' '2,4-DB' \"4,4'-dde\" 'alpha-Lindane'\n",
      " 'Bentazon (Basagran)' 'beta-BHC' 'Bromacil' 'Carbophenothion' 'Captan'\n",
      " 'Chlorpropham' 'Chlorothalonil (Bravo)' 'Cyanazine (Bladex)'\n",
      " 'Diazinon (Spectracide)' 'DCPA mono- and di-acid degradates' 'delta-BHC'\n",
      " 'Dimethoate' 'Diphenamide' 'Endosulfan I' 'Disulfoton' 'Endosulfan II'\n",
      " 'Dichlorprop' 'Endosulfan sulfate' 'EPTC (Eptam)' 'Molinate' 'Prometon'\n",
      " 'Prometryn' 'Terbacil' 'Strontium-90' 'Paraquat' '1,2-Diphenylhydrazine'\n",
      " '2-Methyl-4,6-dinitrophenol' 'Diuron' 'Di-n-octyl phthalate'\n",
      " 'Pentachloroethane' 'Propazine' 'Tritium' 'Molybdenum' 'Lithium'\n",
      " 'N-Nitrosodimethylamine (NDMA)' 'N-Nitrosodi-N-butylamine'\n",
      " 'N-Nitrosodi-N-propylamine' 'N-Nitrosomethylethylamine'\n",
      " 'N-Nitrosopiperidine' 'N-Nitrosopyrrolidine' 'Chlorate'\n",
      " 'Bromochloroacetic acid' 'Caffeine' 'Atraton' 'Terbutryn' 'Secbumeton'\n",
      " 'Glyoxal' 'Altyl chloride' 'bis(2-chloroethyl) ether'\n",
      " '1,3-Dinitrobenzene' '1,2-Dibromoethylene' 'Alachlor ESA' 'Chlorpyriphos'\n",
      " 'Ethoprophos' 'Hexazinone' 'Triclopyr' 'Hydrogen sulfide'\n",
      " 'Azinphos-methyl' 'Malathion' 'Mirex' 'Ethion' 'Parathion' 'Acetochlor'\n",
      " '1-Naphthol' 'Chloramben' 'Terbufos' 'Acrylonitrile' 'n-Butyl alcohol'\n",
      " 'Pentachloronitrobenzene' 'Iodine-131' 'Ethyl methacrylate' 'Iodomethane'\n",
      " 'Methyl methacrylate' 'trans-1,4-Dichloro-2-butene'\n",
      " '2,4,5-Trichlorophenol' 'Dibenzofuran' 'Ametryn' 'Butylate' 'Chloroneb'\n",
      " 'Cycloate' 'Napropamide' 'Permethrin' 'Simetryn' 'Triadimefon'\n",
      " 'Strontium-89' 'Strontium' 'Iodide' 'Benzoic acid' 'Chlorobenzilate'\n",
      " 'Dichlorvos' 'N-nitroso-diethylamine' 'Pendimethalin' 'Terbutylazine'\n",
      " 'Thorium' '3,4-Dichlorobenzoic acid' '1,1-Dichloropropane'\n",
      " 'Dechlorobiphenyl' '1,1-Dichloropropanone' '1-Chlorobutane'\n",
      " '2-Nitropropane' 'Chloroacetonitrile' 'Fluometuron'\n",
      " 'Methyl acrylonitrile' 'Propionitrile' 'Metalaxyl' 'Vernolate' 'Linuron'\n",
      " 'Methyl parathion' 'Cobalt-60' 'Methane' '2,4-Dinitrophenol'\n",
      " '2,4-Dimethylphenol' '2,4,6-Trichlorophenol' '2,4-Dichlorophenol'\n",
      " '2-Chlorophenol' '2-Chloronaphthalene' '2-Nitrophenol'\n",
      " '3,3-Dichlorobenzidine' '4-Chloro-phenyl-phenyl ether' '4-Nitrophenol'\n",
      " '4-Bromophenyl phenyl ether' 'Barban' 'bis(2-Chloroethoxy) Methane'\n",
      " 'bis(2-Chloroisopropyl) ether' 'Fenuron' 'Monuron' 'Neburon' 'Phenols'\n",
      " 'Propham' 'Siduron' 'Bromodichloroacetic acid' 'Chlorodibromoacetic acid'\n",
      " 'Mecoprop' 'MCPA' 'cis-Permethrin' 'trans-Permethrin' 'Dichlorethylene'\n",
      " 'Tribromoacetic acid' 'Desethylatrazine' 'DCPA di-acid degradate'\n",
      " '3,5-Dichlorobenzoic acid' 'Quinclorac' 'Cyclohexane' 'Pentane'\n",
      " 'Hexane(s)' '2-Methylbutane' 'Butane' 'Methylcyclopentane'\n",
      " 'Methylcyclohexane' 'trans-1,2-Dichloropropene' 'Chlorotoluene'\n",
      " '2,4,6-Trinitrotoluene' \"2,2',4,4',5,5'-Hexabromobiphenyl ether\"\n",
      " \"2,2',4,4',5,5'-Hexabromodiphenyl ether\"\n",
      " \"2,2',4,4'-Tetrabromodiphenyl ether\"\n",
      " \"2,2',4,4',5-Pentabromodiphenyl ether\"\n",
      " \"2,2',4,4',6-Pentabromodiphenyl ether\"\n",
      " 'RDX (Hexahydro-1,3,5-trinitro-1,3,5-triazine)' 'Terbufos sulfone'\n",
      " 'Pentachlorobenzene' 'Merphos' 'Thimet' 'Naled' 'Coumaphos' 'Stirofos'\n",
      " 'Fenthion' 'Trichloronate' 'Fensulfothion'\n",
      " 'Acetochlor ethane sulfonic acid' 'Acetochlor oxanilic acid'\n",
      " 'Alachlor oxanilic acid' 'Metolachlor ethane sulfonic acid'\n",
      " 'Metolachlor oxanilic acid' 'Phosdrin' 'Chloropicrin' 'Formaldehyde'\n",
      " 'Isobutane' '2-Methylphenol' 'Diiodomethane' 'Dimethyl ether'\n",
      " '1,1-dichloro-2-propanone' 'Methyacrylate' 'Methacrylonitrile'\n",
      " 'Diethyl ether' 'Benzidine' 'n-Nitrosodiphenylamine' 'Amiben'\n",
      " 'Dichlorofluoromethane' 'Total aldicarbs' '1,1,1-Trichloropropanone'\n",
      " 'Fonofos' 'Desisopropylatrazine' 'Butyl acetate' 'Potassium-40'\n",
      " 'Diaminoatrazine' 'Acrolein' '1,1,1-Trichloro-2-propanone' 'Azobenzene'\n",
      " 'Bromochloroacetonitrile' 'Chloral hydrate' 'Dibromoacetonitrile'\n",
      " 'Dichloroacetonitrile' 'Tin' 'Titanium' 'Trichloroacetonitrile' 'DDT'\n",
      " '1,2,4,5-Tetrachlorobenzene' '1-Naphthylamine' '1,2-Dinitrobenzene'\n",
      " '1,4-Dinitrobenzene' '2,6-dichlorophenol' '2,3,4,6-Tetrachlorophenol'\n",
      " '1-Chloronaphthalene' '2-Naphthylamine' '3-Nitroaniline' '2-Nitroaniline'\n",
      " '2-Picoline' '4-Chloroaniline' '4-Dimethylaminoazobenzene'\n",
      " '4-Nitroaniline' '4-Nitrobiphenyl' '5-Nitroacenapthene'\n",
      " '7,12-Dimethylbenz(a)anthracene' 'Acetophenone' 'Carbazole'\n",
      " 'Diphenylamine' 'Ethyl methanesulfonate' 'Isodrin' 'Mestranol'\n",
      " 'Methyl methanesulfonate' 'Isosafrole' 'Hexachloropropene' 'Pcnb'\n",
      " 'Phenacetin' 'p-Cresol' 'p-Chloro-m-cresol' 'Safrole' 'Pronamide'\n",
      " 'Pyridine' 'Isopropyl chloride' 'n-Propyl alcohol' 'Gallium' 'Scandium'\n",
      " '5-Hydroxydicamba' 'Diisobutyl phthalate' 'Benefin' 'Dicofal'\n",
      " '2-Furancarboxyaldehyde' 'Combined uranium' 'Nitrate & nitrite' 'Estriol'\n",
      " 'Hexadecanoic acid' '1,3-Butadiene' 'Chlorodifluoromethane' 'Cobalt'\n",
      " 'Perfluorobutane sulfonate (PFBS)' 'Perfluoroheptanoic acid (PFHPA)'\n",
      " 'Perfluorohexane sulfonate (PFHXS)' 'Perfluorooctane sulfonate (PFOS)'\n",
      " 'Perfluorononanoic acid (PFNA)' 'Perfluorooctanoic acid (PFOA)'\n",
      " '17-beta-Estradiol' '4-Androstene-3,17-dione' 'Equilin' 'Estrone'\n",
      " 'Ethinyl estradiol' 'Testosterone' 'Octadecanoic acid'\n",
      " '1,2,3-trimethylbenzene (hemellitol)' 'Germanium' 'Tellurium'\n",
      " 'Ethylene Glycol' '4-Chloro-3-methylphenol' 'Mcpa' 'Fluridon'\n",
      " 'Benzaldehyde' '1,3-Dichloropropylene' 'Perfluorohexanoic Acid (PFHxA)'\n",
      " 'Butyl citrate' 'Cesium-134' 'Cesium-137' 'Tetradecanoic acid'\n",
      " 'Tetrachloroterephthalic acid' 'Perfluorobutanoic acid (PFBA)'\n",
      " 'Perfluoropentanoic acid (PFPeA)' 'Perfluorobutanoic Acid (PFBA)'\n",
      " 'Aniline' 'Tungsten' 'Perfluoropentanoic Acid (PFPeA)' 'Cyanide (free)'\n",
      " 'Ethyl tert-amyl ether' 'Tert-amyl alcohol' 'Ddt' 'Isooctyl alcohol'\n",
      " 'Total PFOS and PFOA' '2061'\n",
      " 'Benzo(b)fluoranthene & benzo(k)fluoranthene'\n",
      " '1,1,1,2-Tetrafluoroethane (HFC-134A)' 'Methyl acetate'\n",
      " 'Methyl cellosolve' 'sec-Butyl alcohol' 'Propylene glycol'\n",
      " 'Benzyl alcohol' 'Total Per- and polyfluoroalkyl substances ' 'Triclosan'\n",
      " 'Demeton' 'Aminocarb' 'Benfluralin' 'Etridiazole' 'Pebulate' 'E083'\n",
      " 'Tebuthiuron']\n"
     ]
    }
   ],
   "source": [
    "# Print them out to ctrl+f to find them easier later \n",
    "print(df['contaminant_name'].unique())"
   ]
  },
  {
   "cell_type": "code",
   "execution_count": 4,
   "metadata": {},
   "outputs": [],
   "source": [
    "# Read in an inventory sheet that keeps track of all contaminants of interest\n",
    "inv=pd.read_excel('Data/Contanimants__Inventory-QB.xlsx')"
   ]
  },
  {
   "cell_type": "code",
   "execution_count": 24,
   "metadata": {},
   "outputs": [
    {
     "name": "stderr",
     "output_type": "stream",
     "text": [
      "C:\\Users\\leowe\\anaconda3\\lib\\site-packages\\ipykernel_launcher.py:2: FutureWarning: The default value of regex will change from True to False in a future version. In addition, single character regular expressions will*not* be treated as literal strings when regex=True.\n",
      "  \n"
     ]
    }
   ],
   "source": [
    "# Extract the list of contaminants of interest from an Excel column\n",
    "listofcontam = set()\n",
    "for contams in inv['Unnamed: 2'].dropna().drop(1).str.replace('*','').to_list():\n",
    "    for contam in contams.split('+'):\n",
    "        listofcontam.add(contam.strip())"
   ]
  },
  {
   "cell_type": "code",
   "execution_count": 25,
   "metadata": {},
   "outputs": [],
   "source": [
    "# Remove byproducts to add their constituents\n",
    "listofcontam.remove('Total Trihalomethanes (TTHMs)')\n",
    "listofcontam.remove('Haloacetic acids (HAA5)')"
   ]
  },
  {
   "cell_type": "code",
   "execution_count": 27,
   "metadata": {},
   "outputs": [],
   "source": [
    "# Test for correct counts and find missing contaminants\n",
    "count = 0\n",
    "missingcontam=[]\n",
    "contams = df['contaminant_name'].unique()\n",
    "for contam in listofcontam:\n",
    "    if contam in contams:\n",
    "        count += 1\n",
    "    else:\n",
    "        missingcontam.append(i)"
   ]
  },
  {
   "cell_type": "code",
   "execution_count": 28,
   "metadata": {},
   "outputs": [
    {
     "data": {
      "text/plain": [
       "['1,1,1- Trichloroethane',\n",
       " '1,2,4- Trichlorobenzene',\n",
       " 'trans-1,2,Dichloroethylene',\n",
       " '1,1,2- Trichloroethane',\n",
       " '1,2-Dibromo-3- chloropropane (DBCP)']"
      ]
     },
     "execution_count": 28,
     "metadata": {},
     "output_type": "execute_result"
    }
   ],
   "source": [
    "missingcontam"
   ]
  },
  {
   "cell_type": "code",
   "execution_count": 29,
   "metadata": {},
   "outputs": [],
   "source": [
    "# Finish up where the code left off\n",
    "listofcontam.remove('1,1,1- Trichloroethane')\n",
    "listofcontam.add('1,1,1-Trichloroethane')"
   ]
  },
  {
   "cell_type": "code",
   "execution_count": 30,
   "metadata": {},
   "outputs": [],
   "source": [
    "listofcontam.remove('trans-1,2,Dichloroethylene')\n",
    "listofcontam.add('trans-1,2-Dichloroethylene')"
   ]
  },
  {
   "cell_type": "code",
   "execution_count": 31,
   "metadata": {},
   "outputs": [],
   "source": [
    "listofcontam.remove('1,2,4- Trichlorobenzene')\n",
    "listofcontam.add('1,2,4-Trichlorobenzene')"
   ]
  },
  {
   "cell_type": "code",
   "execution_count": 32,
   "metadata": {},
   "outputs": [],
   "source": [
    "listofcontam.remove('1,1,2- Trichloroethane')\n",
    "listofcontam.add('1,1,2-Trichloroethane')"
   ]
  },
  {
   "cell_type": "code",
   "execution_count": 33,
   "metadata": {},
   "outputs": [],
   "source": [
    "listofcontam.remove('1,2-Dibromo-3- chloropropane (DBCP)')\n",
    "listofcontam.add('1,2-Dibromo-3-chloropropane (DBCP)')"
   ]
  },
  {
   "cell_type": "code",
   "execution_count": 34,
   "metadata": {},
   "outputs": [],
   "source": [
    "# Add the constituents of byproducts\n",
    "listofcontam.add('Chloroform')\n",
    "listofcontam.add('Bromoform')\n",
    "listofcontam.add('Bromodichloromethane')\n",
    "listofcontam.add('Dibromochloromethane')\n",
    "listofcontam.add('Dibromoacetic acid')\n",
    "listofcontam.add('Dichloroacetic acid')\n",
    "listofcontam.add('Monobromoacetic acid')\n",
    "listofcontam.add('Monochloroacetic acid')\n",
    "listofcontam.add('Trichloroacetic acid')"
   ]
  },
  {
   "cell_type": "code",
   "execution_count": 35,
   "metadata": {},
   "outputs": [],
   "source": [
    "# Add additional contaminants\n",
    "listofcontam.add('Monochlorobenzene (chlorobenzene)')\n",
    "listofcontam.add('Ethylbenzene')\n",
    "listofcontam.add('Ethylene dibromide')\n",
    "listofcontam.add('Glyphosate')"
   ]
  },
  {
   "cell_type": "code",
   "execution_count": 63,
   "metadata": {},
   "outputs": [],
   "source": [
    "# Filter for these contaminants of interest and save\n",
    "df[df['contaminant_name'].isin(listofcontam)].to_csv('Data/90contaminants.csv',index=False)"
   ]
  }
 ],
 "metadata": {
  "kernelspec": {
   "display_name": "Python 3",
   "language": "python",
   "name": "python3"
  },
  "language_info": {
   "codemirror_mode": {
    "name": "ipython",
    "version": 3
   },
   "file_extension": ".py",
   "mimetype": "text/x-python",
   "name": "python",
   "nbconvert_exporter": "python",
   "pygments_lexer": "ipython3",
   "version": "3.7.11"
  }
 },
 "nbformat": 4,
 "nbformat_minor": 4
}
