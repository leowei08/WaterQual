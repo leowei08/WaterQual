{
 "cells": [
  {
   "cell_type": "code",
   "execution_count": 1,
   "metadata": {},
   "outputs": [],
   "source": [
    "# Import libraries\n",
    "import pandas as pd"
   ]
  },
  {
   "cell_type": "code",
   "execution_count": 2,
   "metadata": {},
   "outputs": [
    {
     "name": "stderr",
     "output_type": "stream",
     "text": [
      "C:\\Users\\leowe\\anaconda3\\lib\\site-packages\\IPython\\core\\interactiveshell.py:3063: DtypeWarning: Columns (3) have mixed types.Specify dtype option on import or set low_memory=False.\n",
      "  interactivity=interactivity, compiler=compiler, result=result)\n"
     ]
    }
   ],
   "source": [
    "# Read in the old sampling data from 2010 to 2015\n",
    "old=pd.read_csv('Data/full_contaminants.csv')"
   ]
  },
  {
   "cell_type": "code",
   "execution_count": 3,
   "metadata": {},
   "outputs": [
    {
     "data": {
      "text/html": [
       "<div>\n",
       "<style scoped>\n",
       "    .dataframe tbody tr th:only-of-type {\n",
       "        vertical-align: middle;\n",
       "    }\n",
       "\n",
       "    .dataframe tbody tr th {\n",
       "        vertical-align: top;\n",
       "    }\n",
       "\n",
       "    .dataframe thead th {\n",
       "        text-align: right;\n",
       "    }\n",
       "</style>\n",
       "<table border=\"1\" class=\"dataframe\">\n",
       "  <thead>\n",
       "    <tr style=\"text-align: right;\">\n",
       "      <th></th>\n",
       "      <th>utilityid</th>\n",
       "      <th>contaminant_name</th>\n",
       "      <th>date</th>\n",
       "      <th>labid</th>\n",
       "      <th>value</th>\n",
       "    </tr>\n",
       "  </thead>\n",
       "  <tbody>\n",
       "    <tr>\n",
       "      <th>0</th>\n",
       "      <td>NH2512010</td>\n",
       "      <td>Diquat</td>\n",
       "      <td>2010-03-24</td>\n",
       "      <td>103-407-1</td>\n",
       "      <td>ND</td>\n",
       "    </tr>\n",
       "    <tr>\n",
       "      <th>1</th>\n",
       "      <td>NH2512010</td>\n",
       "      <td>Endothall</td>\n",
       "      <td>2010-03-24</td>\n",
       "      <td>103-407-1</td>\n",
       "      <td>ND</td>\n",
       "    </tr>\n",
       "    <tr>\n",
       "      <th>2</th>\n",
       "      <td>NH2512010</td>\n",
       "      <td>Endrin</td>\n",
       "      <td>2010-03-24</td>\n",
       "      <td>103-407-1</td>\n",
       "      <td>ND</td>\n",
       "    </tr>\n",
       "    <tr>\n",
       "      <th>3</th>\n",
       "      <td>NH2512010</td>\n",
       "      <td>Endrin</td>\n",
       "      <td>2012-03-07</td>\n",
       "      <td>1203-00137-001</td>\n",
       "      <td>ND</td>\n",
       "    </tr>\n",
       "    <tr>\n",
       "      <th>4</th>\n",
       "      <td>NH2512010</td>\n",
       "      <td>Endrin</td>\n",
       "      <td>2012-10-10</td>\n",
       "      <td>1210-00312-001</td>\n",
       "      <td>ND</td>\n",
       "    </tr>\n",
       "  </tbody>\n",
       "</table>\n",
       "</div>"
      ],
      "text/plain": [
       "   utilityid contaminant_name        date           labid value\n",
       "0  NH2512010           Diquat  2010-03-24       103-407-1    ND\n",
       "1  NH2512010        Endothall  2010-03-24       103-407-1    ND\n",
       "2  NH2512010           Endrin  2010-03-24       103-407-1    ND\n",
       "3  NH2512010           Endrin  2012-03-07  1203-00137-001    ND\n",
       "4  NH2512010           Endrin  2012-10-10  1210-00312-001    ND"
      ]
     },
     "execution_count": 3,
     "metadata": {},
     "output_type": "execute_result"
    }
   ],
   "source": [
    "old.head()"
   ]
  },
  {
   "cell_type": "code",
   "execution_count": 4,
   "metadata": {},
   "outputs": [],
   "source": [
    "# Read in the new sampling data from 2012 to 2017\n",
    "new=pd.read_csv('Data/EWG_Samples_2012-17.csv')"
   ]
  },
  {
   "cell_type": "code",
   "execution_count": 5,
   "metadata": {},
   "outputs": [
    {
     "data": {
      "text/html": [
       "<div>\n",
       "<style scoped>\n",
       "    .dataframe tbody tr th:only-of-type {\n",
       "        vertical-align: middle;\n",
       "    }\n",
       "\n",
       "    .dataframe tbody tr th {\n",
       "        vertical-align: top;\n",
       "    }\n",
       "\n",
       "    .dataframe thead th {\n",
       "        text-align: right;\n",
       "    }\n",
       "</style>\n",
       "<table border=\"1\" class=\"dataframe\">\n",
       "  <thead>\n",
       "    <tr style=\"text-align: right;\">\n",
       "      <th></th>\n",
       "      <th>utilityid</th>\n",
       "      <th>contaminant_name</th>\n",
       "      <th>date</th>\n",
       "      <th>labid</th>\n",
       "      <th>value</th>\n",
       "      <th>year</th>\n",
       "      <th>state</th>\n",
       "    </tr>\n",
       "  </thead>\n",
       "  <tbody>\n",
       "    <tr>\n",
       "      <th>0</th>\n",
       "      <td>CA4900521</td>\n",
       "      <td>Bromochloromethane</td>\n",
       "      <td>2013-03-13</td>\n",
       "      <td>1610-003-0930</td>\n",
       "      <td>ND</td>\n",
       "      <td>2013</td>\n",
       "      <td>CA</td>\n",
       "    </tr>\n",
       "    <tr>\n",
       "      <th>1</th>\n",
       "      <td>TX1280007</td>\n",
       "      <td>cis-1,3-Dichloropropene</td>\n",
       "      <td>2016-03-07</td>\n",
       "      <td>AD27266</td>\n",
       "      <td>ND</td>\n",
       "      <td>2016</td>\n",
       "      <td>TX</td>\n",
       "    </tr>\n",
       "    <tr>\n",
       "      <th>2</th>\n",
       "      <td>TX1280007</td>\n",
       "      <td>cis-1,3-Dichloropropene</td>\n",
       "      <td>2017-03-16</td>\n",
       "      <td>AD75456</td>\n",
       "      <td>ND</td>\n",
       "      <td>2017</td>\n",
       "      <td>TX</td>\n",
       "    </tr>\n",
       "    <tr>\n",
       "      <th>3</th>\n",
       "      <td>MO4021310</td>\n",
       "      <td>Ethylene dibromide</td>\n",
       "      <td>2013-06-12</td>\n",
       "      <td>AC02082</td>\n",
       "      <td>ND</td>\n",
       "      <td>2013</td>\n",
       "      <td>MO</td>\n",
       "    </tr>\n",
       "    <tr>\n",
       "      <th>4</th>\n",
       "      <td>LA1101004</td>\n",
       "      <td>Bromomethane</td>\n",
       "      <td>2012-10-01</td>\n",
       "      <td>AD71062</td>\n",
       "      <td>ND</td>\n",
       "      <td>2012</td>\n",
       "      <td>LA</td>\n",
       "    </tr>\n",
       "  </tbody>\n",
       "</table>\n",
       "</div>"
      ],
      "text/plain": [
       "   utilityid         contaminant_name        date          labid value  year  \\\n",
       "0  CA4900521       Bromochloromethane  2013-03-13  1610-003-0930    ND  2013   \n",
       "1  TX1280007  cis-1,3-Dichloropropene  2016-03-07        AD27266    ND  2016   \n",
       "2  TX1280007  cis-1,3-Dichloropropene  2017-03-16        AD75456    ND  2017   \n",
       "3  MO4021310       Ethylene dibromide  2013-06-12        AC02082    ND  2013   \n",
       "4  LA1101004             Bromomethane  2012-10-01        AD71062    ND  2012   \n",
       "\n",
       "  state  \n",
       "0    CA  \n",
       "1    TX  \n",
       "2    TX  \n",
       "3    MO  \n",
       "4    LA  "
      ]
     },
     "execution_count": 5,
     "metadata": {},
     "output_type": "execute_result"
    }
   ],
   "source": [
    "new.head()"
   ]
  },
  {
   "cell_type": "code",
   "execution_count": 6,
   "metadata": {},
   "outputs": [
    {
     "data": {
      "text/plain": [
       "(34987049, 7)"
      ]
     },
     "execution_count": 6,
     "metadata": {},
     "output_type": "execute_result"
    }
   ],
   "source": [
    "new.shape"
   ]
  },
  {
   "cell_type": "code",
   "execution_count": 12,
   "metadata": {},
   "outputs": [
    {
     "data": {
      "text/plain": [
       "(29149047, 6)"
      ]
     },
     "execution_count": 12,
     "metadata": {},
     "output_type": "execute_result"
    }
   ],
   "source": [
    "old.shape"
   ]
  },
  {
   "cell_type": "code",
   "execution_count": null,
   "metadata": {},
   "outputs": [],
   "source": [
    "# Compare the number of rows in the overlapping years 2012 to 2015\n",
    "print(new[new['year'] < 2016].shape)\n",
    "old['year']=old['date'].str.extract(r'(\\d{4})\\S*').astype(int)\n",
    "print(old[old['year'].astype(int) > 2011].shape)"
   ]
  },
  {
   "cell_type": "code",
   "execution_count": 18,
   "metadata": {},
   "outputs": [],
   "source": [
    "# Since the new dataset has more data in the overlapping years, we will take it from the new dataset\n",
    "oldmerge = old[old['year'] < 2012]"
   ]
  },
  {
   "cell_type": "code",
   "execution_count": 20,
   "metadata": {},
   "outputs": [
    {
     "name": "stderr",
     "output_type": "stream",
     "text": [
      "C:\\Users\\leowe\\anaconda3\\lib\\site-packages\\ipykernel_launcher.py:1: SettingWithCopyWarning: \n",
      "A value is trying to be set on a copy of a slice from a DataFrame.\n",
      "Try using .loc[row_indexer,col_indexer] = value instead\n",
      "\n",
      "See the caveats in the documentation: https://pandas.pydata.org/pandas-docs/stable/user_guide/indexing.html#returning-a-view-versus-a-copy\n",
      "  \"\"\"Entry point for launching an IPython kernel.\n"
     ]
    }
   ],
   "source": [
    "# Extract state info from utility id\n",
    "oldmerge['state'] = oldmerge['utilityid'].str.extract(r'(\\w{2})\\d*')"
   ]
  },
  {
   "cell_type": "code",
   "execution_count": 23,
   "metadata": {},
   "outputs": [
    {
     "data": {
      "text/html": [
       "<div>\n",
       "<style scoped>\n",
       "    .dataframe tbody tr th:only-of-type {\n",
       "        vertical-align: middle;\n",
       "    }\n",
       "\n",
       "    .dataframe tbody tr th {\n",
       "        vertical-align: top;\n",
       "    }\n",
       "\n",
       "    .dataframe thead th {\n",
       "        text-align: right;\n",
       "    }\n",
       "</style>\n",
       "<table border=\"1\" class=\"dataframe\">\n",
       "  <thead>\n",
       "    <tr style=\"text-align: right;\">\n",
       "      <th></th>\n",
       "      <th>utilityid</th>\n",
       "      <th>contaminant_name</th>\n",
       "      <th>date</th>\n",
       "      <th>labid</th>\n",
       "      <th>value</th>\n",
       "      <th>year</th>\n",
       "      <th>state</th>\n",
       "    </tr>\n",
       "  </thead>\n",
       "  <tbody>\n",
       "    <tr>\n",
       "      <th>0</th>\n",
       "      <td>NH2512010</td>\n",
       "      <td>Diquat</td>\n",
       "      <td>2010-03-24</td>\n",
       "      <td>103-407-1</td>\n",
       "      <td>ND</td>\n",
       "      <td>2010</td>\n",
       "      <td>NH</td>\n",
       "    </tr>\n",
       "    <tr>\n",
       "      <th>1</th>\n",
       "      <td>NH2512010</td>\n",
       "      <td>Endothall</td>\n",
       "      <td>2010-03-24</td>\n",
       "      <td>103-407-1</td>\n",
       "      <td>ND</td>\n",
       "      <td>2010</td>\n",
       "      <td>NH</td>\n",
       "    </tr>\n",
       "    <tr>\n",
       "      <th>2</th>\n",
       "      <td>NH2512010</td>\n",
       "      <td>Endrin</td>\n",
       "      <td>2010-03-24</td>\n",
       "      <td>103-407-1</td>\n",
       "      <td>ND</td>\n",
       "      <td>2010</td>\n",
       "      <td>NH</td>\n",
       "    </tr>\n",
       "    <tr>\n",
       "      <th>6</th>\n",
       "      <td>NH2512010</td>\n",
       "      <td>Endrin aldehyde</td>\n",
       "      <td>2010-03-24</td>\n",
       "      <td>103-407-1</td>\n",
       "      <td>ND</td>\n",
       "      <td>2010</td>\n",
       "      <td>NH</td>\n",
       "    </tr>\n",
       "    <tr>\n",
       "      <th>7</th>\n",
       "      <td>NH2512010</td>\n",
       "      <td>Ethyl ether</td>\n",
       "      <td>2010-03-24</td>\n",
       "      <td>8753301</td>\n",
       "      <td>ND</td>\n",
       "      <td>2010</td>\n",
       "      <td>NH</td>\n",
       "    </tr>\n",
       "  </tbody>\n",
       "</table>\n",
       "</div>"
      ],
      "text/plain": [
       "   utilityid contaminant_name        date      labid value  year state\n",
       "0  NH2512010           Diquat  2010-03-24  103-407-1    ND  2010    NH\n",
       "1  NH2512010        Endothall  2010-03-24  103-407-1    ND  2010    NH\n",
       "2  NH2512010           Endrin  2010-03-24  103-407-1    ND  2010    NH\n",
       "6  NH2512010  Endrin aldehyde  2010-03-24  103-407-1    ND  2010    NH\n",
       "7  NH2512010      Ethyl ether  2010-03-24    8753301    ND  2010    NH"
      ]
     },
     "execution_count": 23,
     "metadata": {},
     "output_type": "execute_result"
    }
   ],
   "source": [
    "oldmerge.head()"
   ]
  },
  {
   "cell_type": "code",
   "execution_count": 24,
   "metadata": {},
   "outputs": [
    {
     "data": {
      "text/html": [
       "<div>\n",
       "<style scoped>\n",
       "    .dataframe tbody tr th:only-of-type {\n",
       "        vertical-align: middle;\n",
       "    }\n",
       "\n",
       "    .dataframe tbody tr th {\n",
       "        vertical-align: top;\n",
       "    }\n",
       "\n",
       "    .dataframe thead th {\n",
       "        text-align: right;\n",
       "    }\n",
       "</style>\n",
       "<table border=\"1\" class=\"dataframe\">\n",
       "  <thead>\n",
       "    <tr style=\"text-align: right;\">\n",
       "      <th></th>\n",
       "      <th>utilityid</th>\n",
       "      <th>contaminant_name</th>\n",
       "      <th>date</th>\n",
       "      <th>labid</th>\n",
       "      <th>value</th>\n",
       "      <th>year</th>\n",
       "      <th>state</th>\n",
       "    </tr>\n",
       "  </thead>\n",
       "  <tbody>\n",
       "    <tr>\n",
       "      <th>0</th>\n",
       "      <td>CA4900521</td>\n",
       "      <td>Bromochloromethane</td>\n",
       "      <td>2013-03-13</td>\n",
       "      <td>1610-003-0930</td>\n",
       "      <td>ND</td>\n",
       "      <td>2013</td>\n",
       "      <td>CA</td>\n",
       "    </tr>\n",
       "    <tr>\n",
       "      <th>1</th>\n",
       "      <td>TX1280007</td>\n",
       "      <td>cis-1,3-Dichloropropene</td>\n",
       "      <td>2016-03-07</td>\n",
       "      <td>AD27266</td>\n",
       "      <td>ND</td>\n",
       "      <td>2016</td>\n",
       "      <td>TX</td>\n",
       "    </tr>\n",
       "    <tr>\n",
       "      <th>2</th>\n",
       "      <td>TX1280007</td>\n",
       "      <td>cis-1,3-Dichloropropene</td>\n",
       "      <td>2017-03-16</td>\n",
       "      <td>AD75456</td>\n",
       "      <td>ND</td>\n",
       "      <td>2017</td>\n",
       "      <td>TX</td>\n",
       "    </tr>\n",
       "    <tr>\n",
       "      <th>3</th>\n",
       "      <td>MO4021310</td>\n",
       "      <td>Ethylene dibromide</td>\n",
       "      <td>2013-06-12</td>\n",
       "      <td>AC02082</td>\n",
       "      <td>ND</td>\n",
       "      <td>2013</td>\n",
       "      <td>MO</td>\n",
       "    </tr>\n",
       "    <tr>\n",
       "      <th>4</th>\n",
       "      <td>LA1101004</td>\n",
       "      <td>Bromomethane</td>\n",
       "      <td>2012-10-01</td>\n",
       "      <td>AD71062</td>\n",
       "      <td>ND</td>\n",
       "      <td>2012</td>\n",
       "      <td>LA</td>\n",
       "    </tr>\n",
       "  </tbody>\n",
       "</table>\n",
       "</div>"
      ],
      "text/plain": [
       "   utilityid         contaminant_name        date          labid value  year  \\\n",
       "0  CA4900521       Bromochloromethane  2013-03-13  1610-003-0930    ND  2013   \n",
       "1  TX1280007  cis-1,3-Dichloropropene  2016-03-07        AD27266    ND  2016   \n",
       "2  TX1280007  cis-1,3-Dichloropropene  2017-03-16        AD75456    ND  2017   \n",
       "3  MO4021310       Ethylene dibromide  2013-06-12        AC02082    ND  2013   \n",
       "4  LA1101004             Bromomethane  2012-10-01        AD71062    ND  2012   \n",
       "\n",
       "  state  \n",
       "0    CA  \n",
       "1    TX  \n",
       "2    TX  \n",
       "3    MO  \n",
       "4    LA  "
      ]
     },
     "execution_count": 24,
     "metadata": {},
     "output_type": "execute_result"
    }
   ],
   "source": [
    "new.head()"
   ]
  },
  {
   "cell_type": "code",
   "execution_count": 26,
   "metadata": {},
   "outputs": [],
   "source": [
    "# Combine the dataset and save it\n",
    "pd.concat([oldmerge,new]).to_csv('Data/EWG_2010_2017.csv',index=False)"
   ]
  }
 ],
 "metadata": {
  "kernelspec": {
   "display_name": "Python 3",
   "language": "python",
   "name": "python3"
  },
  "language_info": {
   "codemirror_mode": {
    "name": "ipython",
    "version": 3
   },
   "file_extension": ".py",
   "mimetype": "text/x-python",
   "name": "python",
   "nbconvert_exporter": "python",
   "pygments_lexer": "ipython3",
   "version": "3.7.11"
  }
 },
 "nbformat": 4,
 "nbformat_minor": 4
}
